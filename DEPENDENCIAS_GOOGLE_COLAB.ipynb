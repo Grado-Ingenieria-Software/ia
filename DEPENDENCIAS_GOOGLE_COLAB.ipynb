{
  "nbformat": 4,
  "nbformat_minor": 0,
  "metadata": {
    "colab": {
      "name": "DEPENDENCIAS GOOGLE COLAB.ipynb",
      "version": "0.3.2",
      "provenance": [],
      "collapsed_sections": [],
      "toc_visible": true,
      "include_colab_link": true
    },
    "kernelspec": {
      "name": "python3",
      "display_name": "Python 3"
    }
  },
  "cells": [
    {
      "cell_type": "markdown",
      "metadata": {
        "id": "view-in-github",
        "colab_type": "text"
      },
      "source": [
        "<a href=\"https://colab.research.google.com/github/a8081/ia/blob/master/DEPENDENCIAS_GOOGLE_COLAB.ipynb\" target=\"_parent\"><img src=\"https://colab.research.google.com/assets/colab-badge.svg\" alt=\"Open In Colab\"/></a>"
      ]
    },
    {
      "cell_type": "markdown",
      "metadata": {
        "id": "9xKA0Yoy5j-M",
        "colab_type": "text"
      },
      "source": [
        "#Instalacion de paquetes y dependencias\n"
      ]
    },
    {
      "cell_type": "code",
      "metadata": {
        "id": "5IJmq9ZZ5xB3",
        "colab_type": "code",
        "colab": {}
      },
      "source": [
        "\n",
        "from IPython.display import clear_output\n",
        "\n",
        "!pip install --upgrade pip\n",
        "clear_output()\n",
        "!pip install numpy==1.16.4\n",
        "clear_output()\n",
        "!pip install matplotlib\n",
        "clear_output()\n",
        "!pip install scipy\n",
        "clear_output()\n",
        "!pip install future\n",
        "clear_output()\n",
        "!pip install tensorflow\n",
        "clear_output()\n",
        "!pip install numba==0.38.0\n",
        "clear_output()\n",
        "!git clone https://github.com/pemami4911/POMDPy.git\n",
        "clear_output()\n",
        "!git clone https://github.com/namoshizun/PyPOMDP.git\n",
        "clear_output()\n",
        "!pip install graphviz==0.8.2\n",
        "clear_output()\n",
        "\n"
      ],
      "execution_count": 0,
      "outputs": []
    },
    {
      "cell_type": "markdown",
      "metadata": {
        "id": "uWRBomwUCaDQ",
        "colab_type": "text"
      },
      "source": [
        "# Problema de Tigre ejemplo\n"
      ]
    },
    {
      "cell_type": "code",
      "metadata": {
        "id": "kK-_uTxzCgwC",
        "colab_type": "code",
        "colab": {
          "base_uri": "https://localhost:8080/",
          "height": 1258
        },
        "outputId": "982835b9-32a8-4843-c0e3-67bec8b6dc4a"
      },
      "source": [
        "!python POMDPy/vi.py --env Tiger --solver ValueIteration --planning_horizon 8 --n_epochs 10 --max_steps 10 --seed 123"
      ],
      "execution_count": 14,
      "outputs": [
        {
          "output_type": "stream",
          "text": [
            "{'beta': 0.001,\n",
            " 'discount': 0.95,\n",
            " 'env': 'Tiger',\n",
            " 'epsilon_decay': 0.96,\n",
            " 'epsilon_decay_step': 75,\n",
            " 'epsilon_minimum': 0.05,\n",
            " 'epsilon_start': 0.02,\n",
            " 'learning_rate': 0.05,\n",
            " 'learning_rate_decay': 0.996,\n",
            " 'learning_rate_decay_step': 50,\n",
            " 'learning_rate_minimum': 0.0025,\n",
            " 'max_steps': 10,\n",
            " 'n_epochs': 100,\n",
            " 'planning_horizon': 8,\n",
            " 'save': False,\n",
            " 'seed': 123,\n",
            " 'solver': 'ValueIteration',\n",
            " 'test': 10,\n",
            " 'use_tf': False}\n",
            "[Value Iteration] planning horizon 0...\n",
            "[Value Iteration] planning horizon 1...\n",
            "[Value Iteration] planning horizon 2...\n",
            "[Value Iteration] planning horizon 3...\n",
            "[Value Iteration] planning horizon 4...\n",
            "[Value Iteration] planning horizon 5...\n",
            "[Value Iteration] planning horizon 6...\n",
            "[Value Iteration] planning horizon 7...\n",
            "agent - Step Number = 0\n",
            "agent - Step Result.Action = Opening door 1\n",
            "agent - Step Result.Observation = No observation from entering a terminal state\n",
            "agent - Step Result.Reward = 10.0\n",
            "agent - Terminated after episode step 1\n",
            "======================================================================\n",
            "\tEpoch #1 RESULTS\n",
            "======================================================================\n",
            "agent - discounted return statistics\n",
            "==========================================\n",
            "Name =  discounted return\n",
            "Running Total =  10.0\n",
            "Mean =  10.0\n",
            "Count =  1.0\n",
            "Variance =  0.0\n",
            "Max =  10.0\n",
            "Min =  10.0\n",
            "==========================================\n",
            "agent - undiscounted return statistics\n",
            "==========================================\n",
            "Name =  undiscounted return\n",
            "Running Total =  10.0\n",
            "Mean =  10.0\n",
            "Count =  1.0\n",
            "Variance =  0.0\n",
            "Max =  10.0\n",
            "Min =  10.0\n",
            "==========================================\n",
            "agent - Time\n",
            "==========================================\n",
            "Name =  Time\n",
            "Running Total =  0.4699728488922119\n",
            "Mean =  0.4699728488922119\n",
            "Count =  1.0\n",
            "Variance =  0.0\n",
            "Max =  0.4699728488922119\n",
            "Min =  0.4699728488922119\n",
            "==========================================\n",
            "agent - Total possible undiscounted return: 10\n",
            "==========================================\n",
            "\n",
            "\n",
            "agent - epochs: 100\n",
            "agent - ave undiscounted return/step: 10.0 +- 0.0\n",
            "agent - ave discounted return/step: 10.0 +- 0.0\n",
            "agent - ave time/epoch: 0.4699728488922119\n"
          ],
          "name": "stdout"
        }
      ]
    }
  ]
}